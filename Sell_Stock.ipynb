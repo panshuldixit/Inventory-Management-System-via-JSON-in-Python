{
  "nbformat": 4,
  "nbformat_minor": 0,
  "metadata": {
    "colab": {
      "name": "Sell_Stock.ipynb",
      "provenance": []
    },
    "kernelspec": {
      "name": "python3",
      "display_name": "Python 3"
    },
    "language_info": {
      "name": "python"
    }
  },
  "cells": [
    {
      "cell_type": "code",
      "metadata": {
        "id": "fpLWZvnhe_M6",
        "colab": {
          "base_uri": "https://localhost:8080/"
        },
        "outputId": "111fd027-e7cf-449b-d41c-b9e2b90fc9af"
      },
      "source": [
        "import json\n",
        "import os\n",
        "import datetime\n",
        "from json.decoder import JSONDecodeError\n",
        "\n",
        "fd = open(\"item_stock.json\",'r')\n",
        "r = fd.read()\n",
        "fd.close()\n",
        "if os.path.isfile(\"record.json\"):\n",
        "  sd=open(\"sales.json\",'r')\n",
        "  s=sd.read()\n",
        "  sd.close()\n",
        "  sales=json.loads(s)\n",
        "else:\n",
        "  sales={}\n",
        "records = json.loads(r)\n",
        "print(\"What do you want to do?\\n1.Sell\\n2.Update Stock\\n3.Exit\")\n",
        "choice = int(input(\"Enter your option :\"))\n",
        "if choice == 1:  \n",
        "  ui_prod  = str(input(\"Enter the product_Id: \"))\n",
        "  ui_quant = int(input(\"Enter the quantity: \"))\n",
        "  if records[ui_prod]['quantity']>=ui_quant:\n",
        "    print(\"\\nPurchased Successfully!\")\n",
        "    print(\"Product: \", records[ui_prod]['name'])\n",
        "    print(\"Price: \", records[ui_prod]['price'])\n",
        "    print(\"Billing Amount: \", (records[ui_prod]['price']-records[ui_prod]['special_discount']) * ui_quant)\n",
        "    records[ui_prod]['quantity'] = records[ui_prod]['quantity'] - ui_quant\n",
        "    js = json.dumps(records)\n",
        "    fd = open(\"item_stock.json\",'w')\n",
        "    fd.write(js)\n",
        "    fd.close()\n",
        "    sales[str(datetime.datetime.now())]={'Product':records[ui_prod]['name'],'Billing_Amount':(records[ui_prod]['price']-records[ui_prod]['special_discount']) * ui_quant,'Quantity':ui_quant}\n",
        "    saledump=json.dumps(sales)\n",
        "    sd=open(\"sales.json\",'w')\n",
        "    sd.write(saledump)\n",
        "    sd.close()\n",
        "  else:\n",
        "    print(\"Insufficient Stock!\")\n",
        "\n",
        "elif choice==2:\n",
        "  prod_id = str(input(\"Enter product id:\"))\n",
        "  name = str(input(\"Enter name:\"))\n",
        "  pr = int(input(\"Enter price:\"))\n",
        "  qn = int(input(\"Enter quantity:\"))\n",
        "  ex= str(input(\"Enter Expiry:\"))\n",
        "  spd= int(input(\"Enter Special Discount:\"))\n",
        "  records[prod_id] = {'name': name, 'price': pr, 'quantity': qn,'expiry': ex,'special_discount':spd}\n",
        "  js = json.dumps(records)\n",
        "  fd = open(\"item_stock.json\",'w')\n",
        "  fd.write(js)\n",
        "  fd.close()\n",
        "  print(\"\\nAdded Sucessfully!\")\n",
        "elif choice==3:\n",
        "  print(\"Thank you!\")"
      ],
      "execution_count": 16,
      "outputs": [
        {
          "output_type": "stream",
          "name": "stdout",
          "text": [
            "What do you want to do?\n",
            "1.Sell\n",
            "2.Update Stock\n",
            "3.Exit\n"
          ]
        }
      ]
    }
  ]
}